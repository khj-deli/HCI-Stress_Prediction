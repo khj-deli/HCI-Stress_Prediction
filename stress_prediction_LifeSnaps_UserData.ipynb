{
 "cells": [
  {
   "cell_type": "markdown",
   "metadata": {},
   "source": [
    "# Stress Prediction Model"
   ]
  },
  {
   "cell_type": "markdown",
   "metadata": {
    "tags": []
   },
   "source": [
    "### Library Import"
   ]
  },
  {
   "cell_type": "code",
   "execution_count": 1,
   "metadata": {},
   "outputs": [],
   "source": [
    "import warnings\n",
    "import numpy as np\n",
    "import pandas as pd\n",
    "import seaborn as sns\n",
    "from scipy import stats\n",
    "from scipy.sparse import hstack\n",
    "from scipy.optimize import minimize\n",
    "from matplotlib import pyplot as plt\n",
    "%matplotlib inline\n",
    "from tqdm import tqdm_notebook, tqdm\n",
    "from sklearn.model_selection import cross_val_score\n",
    "from sklearn.model_selection import KFold\n",
    "from sklearn.metrics import roc_auc_score, accuracy_score, log_loss, r2_score\n",
    "from sklearn.metrics import mean_squared_error, mean_squared_log_error\n",
    "from sklearn.feature_selection import RFE\n",
    "from sklearn.model_selection import train_test_split\n",
    "from sklearn.model_selection import cross_val_score\n",
    "from sklearn.model_selection import KFold, StratifiedKFold\n",
    "from sklearn.preprocessing import StandardScaler\n",
    "from sklearn.impute import SimpleImputer\n",
    "from sklearn.model_selection import GridSearchCV\n",
    "from sklearn.model_selection import cross_validate\n",
    "from sklearn.linear_model import LinearRegression\n",
    "from sklearn import model_selection\n",
    "from sklearn import metrics\n",
    "from sklearn.preprocessing import LabelEncoder\n",
    "import pickle\n",
    "\n",
    "#from catboost import CatBoostRegressor\n",
    "#import category_encoders as ce\n",
    "#import xgboost as xgb\n",
    "#import lightgbm as lgb\n",
    "#from lightgbm import LGBMRegressor\n",
    "warnings.filterwarnings('ignore')"
   ]
  },
  {
   "cell_type": "markdown",
   "metadata": {},
   "source": [
    "-----"
   ]
  },
  {
   "cell_type": "markdown",
   "metadata": {},
   "source": [
    "## 1. LifeSnaps"
   ]
  },
  {
   "cell_type": "markdown",
   "metadata": {
    "tags": []
   },
   "source": [
    "### Data Import"
   ]
  },
  {
   "cell_type": "code",
   "execution_count": 7,
   "metadata": {
    "tags": []
   },
   "outputs": [
    {
     "name": "stdout",
     "output_type": "stream",
     "text": [
      "taining data shape: (7410, 63)\n"
     ]
    }
   ],
   "source": [
    "train = pd.read_csv('lifesnaps.csv')\n",
    "print('taining data shape:',train.shape)"
   ]
  },
  {
   "cell_type": "markdown",
   "metadata": {},
   "source": [
    "-----"
   ]
  },
  {
   "cell_type": "markdown",
   "metadata": {
    "tags": []
   },
   "source": [
    "### Data Preprocess"
   ]
  },
  {
   "cell_type": "code",
   "execution_count": 8,
   "metadata": {},
   "outputs": [],
   "source": [
    "train_clean = train[['id', 'date', 'stress_score', 'daily_temperature_variation', 'calories', 'distance', 'steps', 'gender']]"
   ]
  },
  {
   "cell_type": "code",
   "execution_count": 9,
   "metadata": {},
   "outputs": [],
   "source": [
    "train_clean['gender'] = train_clean['gender'].apply(lambda x: 0 if x == 'MALE' else 1)"
   ]
  },
  {
   "cell_type": "code",
   "execution_count": 10,
   "metadata": {},
   "outputs": [],
   "source": [
    "train_clean=train_clean[train_clean['stress_score'].isnull()==False]"
   ]
  },
  {
   "cell_type": "code",
   "execution_count": 11,
   "metadata": {
    "tags": []
   },
   "outputs": [],
   "source": [
    "train_clean['stress_score'] = train_clean['stress_score'].apply(lambda x: x/10)"
   ]
  },
  {
   "cell_type": "code",
   "execution_count": 12,
   "metadata": {
    "tags": []
   },
   "outputs": [],
   "source": [
    "train_clean['stress_score'] = train_clean['stress_score'].apply(lambda x: round(x))"
   ]
  },
  {
   "cell_type": "code",
   "execution_count": 13,
   "metadata": {},
   "outputs": [],
   "source": [
    "df_train=train_clean.copy()\n",
    "\n",
    "# ['id', 'date', 'stress_score', 'daily_temperature_variation', 'calories', 'distance', 'steps', 'gender']\n",
    "df_train=df_train[df_train['date'].isnull()==False]  # removing null values\n",
    "df_train=df_train[df_train['stress_score'].isnull()==False]\n",
    "df_train=df_train[df_train['daily_temperature_variation'].isnull()==False]\n",
    "df_train=df_train[df_train['calories'].isnull()==False]\n",
    "df_train=df_train[df_train['distance'].isnull()==False]\n",
    "df_train=df_train[df_train['steps'].isnull()==False]\n",
    "df_train=df_train[df_train['gender'].isnull()==False]"
   ]
  },
  {
   "cell_type": "code",
   "execution_count": 14,
   "metadata": {},
   "outputs": [],
   "source": [
    "cols = ['stress_score', 'daily_temperature_variation', 'calories', 'distance', 'steps', 'gender']\n",
    "df =df_train[cols]\n",
    "xtrain, xtest, ytrain, ytest = train_test_split(df.loc[:, df.columns != \"stress_score\"],\n",
    "                                                df.loc[:, df.columns == \"stress_score\"],\n",
    "                                                test_size=0.3, random_state=88)"
   ]
  },
  {
   "cell_type": "markdown",
   "metadata": {},
   "source": [
    "-----"
   ]
  },
  {
   "cell_type": "markdown",
   "metadata": {
    "tags": []
   },
   "source": [
    "### SVR Model + Cross-Validation"
   ]
  },
  {
   "cell_type": "code",
   "execution_count": 15,
   "metadata": {
    "tags": []
   },
   "outputs": [
    {
     "name": "stdout",
     "output_type": "stream",
     "text": [
      "SVR - Mean Absolute Error for train (5-fold CV): 1.51\n",
      "SVR - Mean Absolute Error for test (5-fold CV): 1.3\n"
     ]
    }
   ],
   "source": [
    "from sklearn.model_selection import cross_val_score, cross_val_predict\n",
    "from sklearn.svm import SVR  # Use SVR for regression\n",
    "from sklearn.metrics import mean_absolute_error\n",
    "\n",
    "svr_model = SVR(kernel='rbf')\n",
    "\n",
    "svr_model.fit(xtrain, ytrain)\n",
    "\n",
    "train_predictions = cross_val_predict(svr_model, xtrain, ytrain, cv=5)\n",
    "test_predictions = cross_val_predict(svr_model, xtest, ytest, cv=5)\n",
    "\n",
    "train_mae = mean_absolute_error(ytrain, train_predictions)\n",
    "test_mae = mean_absolute_error(ytest, test_predictions)\n",
    "\n",
    "print(\"SVR - Mean Absolute Error for train (5-fold CV):\", round(train_mae, 2))\n",
    "print(\"SVR - Mean Absolute Error for test (5-fold CV):\", round(test_mae, 2))"
   ]
  },
  {
   "cell_type": "markdown",
   "metadata": {},
   "source": [
    "-----"
   ]
  },
  {
   "cell_type": "markdown",
   "metadata": {},
   "source": [
    "## 2. Data Collection + LifeSnaps"
   ]
  },
  {
   "cell_type": "markdown",
   "metadata": {},
   "source": [
    "### Data Import"
   ]
  },
  {
   "cell_type": "code",
   "execution_count": 42,
   "metadata": {},
   "outputs": [
    {
     "name": "stdout",
     "output_type": "stream",
     "text": [
      "taining data shape: (393, 15)\n"
     ]
    }
   ],
   "source": [
    "train2 = pd.read_csv('data_collection.csv')\n",
    "print('taining data shape:',train2.shape)"
   ]
  },
  {
   "cell_type": "markdown",
   "metadata": {},
   "source": [
    "-----"
   ]
  },
  {
   "cell_type": "markdown",
   "metadata": {},
   "source": [
    "### Data Preprocess"
   ]
  },
  {
   "cell_type": "code",
   "execution_count": 43,
   "metadata": {},
   "outputs": [],
   "source": [
    "train_clean2 = train2[['id', 'date', 'stress_score', 'daily_temperature_variation', 'calories', 'distance', 'steps', 'gender']]"
   ]
  },
  {
   "cell_type": "code",
   "execution_count": 46,
   "metadata": {},
   "outputs": [],
   "source": [
    "df_train2=train_clean2.copy()\n",
    "\n",
    "# ['id', 'date', 'stress_score', 'daily_temperature_variation', 'calories', 'distance', 'steps', 'gender']\n",
    "df_train2=df_train2[df_train2['stress_score'].isnull()==False]\n",
    "df_train2=df_train2[df_train2['daily_temperature_variation'].isnull()==False]\n",
    "df_train2=df_train2[df_train2['calories'].isnull()==False]\n",
    "df_train2=df_train2[df_train2['distance'].isnull()==False]\n",
    "df_train2=df_train2[df_train2['steps'].isnull()==False]\n",
    "df_train2=df_train2[df_train2['gender'].isnull()==False]\n",
    "df_train2.drop(df_train2[df_train2['distance'] == '#VALUE!'].index, inplace=True)\n",
    "df_train2['steps'] = df_train2['steps'].replace({',': ''}, regex=True).astype(float)"
   ]
  },
  {
   "cell_type": "markdown",
   "metadata": {},
   "source": [
    "------"
   ]
  },
  {
   "cell_type": "markdown",
   "metadata": {},
   "source": [
    "### Mix Two(LifeSnaps, Data Collection) DataFrame & Shuffle"
   ]
  },
  {
   "cell_type": "code",
   "execution_count": 47,
   "metadata": {},
   "outputs": [],
   "source": [
    "mixed_df = pd.concat([df_train, df_train2], axis=0, ignore_index=False)\n",
    "result_df = mixed_df.sample(frac=1, random_state=42)"
   ]
  },
  {
   "cell_type": "code",
   "execution_count": 48,
   "metadata": {
    "tags": []
   },
   "outputs": [
    {
     "data": {
      "text/html": [
       "<div>\n",
       "<style scoped>\n",
       "    .dataframe tbody tr th:only-of-type {\n",
       "        vertical-align: middle;\n",
       "    }\n",
       "\n",
       "    .dataframe tbody tr th {\n",
       "        vertical-align: top;\n",
       "    }\n",
       "\n",
       "    .dataframe thead th {\n",
       "        text-align: right;\n",
       "    }\n",
       "</style>\n",
       "<table border=\"1\" class=\"dataframe\">\n",
       "  <thead>\n",
       "    <tr style=\"text-align: right;\">\n",
       "      <th></th>\n",
       "      <th>id</th>\n",
       "      <th>date</th>\n",
       "      <th>stress_score</th>\n",
       "      <th>daily_temperature_variation</th>\n",
       "      <th>calories</th>\n",
       "      <th>distance</th>\n",
       "      <th>steps</th>\n",
       "      <th>gender</th>\n",
       "    </tr>\n",
       "  </thead>\n",
       "  <tbody>\n",
       "    <tr>\n",
       "      <th>7208</th>\n",
       "      <td>621e36f967b776a240e5e7c9</td>\n",
       "      <td>2021-07-16</td>\n",
       "      <td>8</td>\n",
       "      <td>-2.674622</td>\n",
       "      <td>3352.75</td>\n",
       "      <td>19139.6</td>\n",
       "      <td>27772.0</td>\n",
       "      <td>1.0</td>\n",
       "    </tr>\n",
       "    <tr>\n",
       "      <th>4452</th>\n",
       "      <td>621e33b067b776a240f39e56</td>\n",
       "      <td>2021-07-06</td>\n",
       "      <td>8</td>\n",
       "      <td>-1.269686</td>\n",
       "      <td>2820.23</td>\n",
       "      <td>5407.1</td>\n",
       "      <td>7146.0</td>\n",
       "      <td>0.0</td>\n",
       "    </tr>\n",
       "    <tr>\n",
       "      <th>6089</th>\n",
       "      <td>621e351a67b776a240f6204b</td>\n",
       "      <td>2021-06-28</td>\n",
       "      <td>0</td>\n",
       "      <td>-1.508792</td>\n",
       "      <td>2999.75</td>\n",
       "      <td>4361.4</td>\n",
       "      <td>7654.0</td>\n",
       "      <td>0.0</td>\n",
       "    </tr>\n",
       "    <tr>\n",
       "      <th>825</th>\n",
       "      <td>621e2f5767b776a240d8f9d6</td>\n",
       "      <td>2021-11-21</td>\n",
       "      <td>9</td>\n",
       "      <td>-2.383186</td>\n",
       "      <td>2374.47</td>\n",
       "      <td>11769.9</td>\n",
       "      <td>17413.0</td>\n",
       "      <td>1.0</td>\n",
       "    </tr>\n",
       "    <tr>\n",
       "      <th>1227</th>\n",
       "      <td>621e2f9167b776a240011ccb</td>\n",
       "      <td>2022-01-16</td>\n",
       "      <td>8</td>\n",
       "      <td>-1.696735</td>\n",
       "      <td>1614.49</td>\n",
       "      <td>2184.3</td>\n",
       "      <td>3120.0</td>\n",
       "      <td>1.0</td>\n",
       "    </tr>\n",
       "    <tr>\n",
       "      <th>...</th>\n",
       "      <td>...</td>\n",
       "      <td>...</td>\n",
       "      <td>...</td>\n",
       "      <td>...</td>\n",
       "      <td>...</td>\n",
       "      <td>...</td>\n",
       "      <td>...</td>\n",
       "      <td>...</td>\n",
       "    </tr>\n",
       "    <tr>\n",
       "      <th>4354</th>\n",
       "      <td>621e339967b776a240e502de</td>\n",
       "      <td>2021-11-26</td>\n",
       "      <td>8</td>\n",
       "      <td>-0.986472</td>\n",
       "      <td>1803.91</td>\n",
       "      <td>8336.7</td>\n",
       "      <td>10049.0</td>\n",
       "      <td>1.0</td>\n",
       "    </tr>\n",
       "    <tr>\n",
       "      <th>4546</th>\n",
       "      <td>621e33cf67b776a240087de9</td>\n",
       "      <td>2022-01-05</td>\n",
       "      <td>7</td>\n",
       "      <td>-2.007019</td>\n",
       "      <td>3482.40</td>\n",
       "      <td>8183.6</td>\n",
       "      <td>11041.0</td>\n",
       "      <td>0.0</td>\n",
       "    </tr>\n",
       "    <tr>\n",
       "      <th>3412</th>\n",
       "      <td>621e32af67b776a24045b4cf</td>\n",
       "      <td>2021-07-25</td>\n",
       "      <td>8</td>\n",
       "      <td>-0.464637</td>\n",
       "      <td>2672.12</td>\n",
       "      <td>5345.0</td>\n",
       "      <td>7483.0</td>\n",
       "      <td>0.0</td>\n",
       "    </tr>\n",
       "    <tr>\n",
       "      <th>6088</th>\n",
       "      <td>621e351a67b776a240f6204b</td>\n",
       "      <td>2021-06-27</td>\n",
       "      <td>8</td>\n",
       "      <td>-1.128925</td>\n",
       "      <td>1912.76</td>\n",
       "      <td>1744.7</td>\n",
       "      <td>2424.0</td>\n",
       "      <td>0.0</td>\n",
       "    </tr>\n",
       "    <tr>\n",
       "      <th>4314</th>\n",
       "      <td>621e337667b776a240ce78ab</td>\n",
       "      <td>2021-08-15</td>\n",
       "      <td>8</td>\n",
       "      <td>-1.444739</td>\n",
       "      <td>2655.81</td>\n",
       "      <td>6201.9</td>\n",
       "      <td>8594.0</td>\n",
       "      <td>0.0</td>\n",
       "    </tr>\n",
       "  </tbody>\n",
       "</table>\n",
       "<p>1872 rows × 8 columns</p>\n",
       "</div>"
      ],
      "text/plain": [
       "                            id        date  stress_score  \\\n",
       "7208  621e36f967b776a240e5e7c9  2021-07-16             8   \n",
       "4452  621e33b067b776a240f39e56  2021-07-06             8   \n",
       "6089  621e351a67b776a240f6204b  2021-06-28             0   \n",
       "825   621e2f5767b776a240d8f9d6  2021-11-21             9   \n",
       "1227  621e2f9167b776a240011ccb  2022-01-16             8   \n",
       "...                        ...         ...           ...   \n",
       "4354  621e339967b776a240e502de  2021-11-26             8   \n",
       "4546  621e33cf67b776a240087de9  2022-01-05             7   \n",
       "3412  621e32af67b776a24045b4cf  2021-07-25             8   \n",
       "6088  621e351a67b776a240f6204b  2021-06-27             8   \n",
       "4314  621e337667b776a240ce78ab  2021-08-15             8   \n",
       "\n",
       "      daily_temperature_variation  calories distance    steps  gender  \n",
       "7208                    -2.674622   3352.75  19139.6  27772.0     1.0  \n",
       "4452                    -1.269686   2820.23   5407.1   7146.0     0.0  \n",
       "6089                    -1.508792   2999.75   4361.4   7654.0     0.0  \n",
       "825                     -2.383186   2374.47  11769.9  17413.0     1.0  \n",
       "1227                    -1.696735   1614.49   2184.3   3120.0     1.0  \n",
       "...                           ...       ...      ...      ...     ...  \n",
       "4354                    -0.986472   1803.91   8336.7  10049.0     1.0  \n",
       "4546                    -2.007019   3482.40   8183.6  11041.0     0.0  \n",
       "3412                    -0.464637   2672.12   5345.0   7483.0     0.0  \n",
       "6088                    -1.128925   1912.76   1744.7   2424.0     0.0  \n",
       "4314                    -1.444739   2655.81   6201.9   8594.0     0.0  \n",
       "\n",
       "[1872 rows x 8 columns]"
      ]
     },
     "execution_count": 48,
     "metadata": {},
     "output_type": "execute_result"
    }
   ],
   "source": [
    "result_df"
   ]
  },
  {
   "cell_type": "code",
   "execution_count": 49,
   "metadata": {},
   "outputs": [],
   "source": [
    "cols = ['stress_score', 'daily_temperature_variation', 'calories', 'distance', 'steps', 'gender']\n",
    "df = result_df[cols]\n",
    "xtrain, xtest, ytrain, ytest = train_test_split(df.loc[:, df.columns != \"stress_score\"],\n",
    "                                                df.loc[:, df.columns == \"stress_score\"],\n",
    "                                                test_size=0.3, random_state=88)"
   ]
  },
  {
   "cell_type": "markdown",
   "metadata": {},
   "source": [
    "-----"
   ]
  },
  {
   "cell_type": "markdown",
   "metadata": {},
   "source": [
    "### SVR Model + Cross-Validation"
   ]
  },
  {
   "cell_type": "code",
   "execution_count": 50,
   "metadata": {},
   "outputs": [
    {
     "name": "stdout",
     "output_type": "stream",
     "text": [
      "SVR - Mean Absolute Error for train (5-fold CV): 1.57\n",
      "SVR - Mean Absolute Error for test (5-fold CV): 1.5\n"
     ]
    }
   ],
   "source": [
    "from sklearn.model_selection import cross_val_score, cross_val_predict\n",
    "from sklearn.svm import SVR\n",
    "from sklearn.metrics import mean_absolute_error\n",
    "\n",
    "svr_model = SVR(kernel='rbf')\n",
    "\n",
    "svr_model.fit(xtrain, ytrain)\n",
    "\n",
    "train_predictions = cross_val_predict(svr_model, xtrain, ytrain, cv=5)\n",
    "test_predictions = cross_val_predict(svr_model, xtest, ytest, cv=5)\n",
    "\n",
    "train_mae = mean_absolute_error(ytrain, train_predictions)\n",
    "test_mae = mean_absolute_error(ytest, test_predictions)\n",
    "\n",
    "print(\"SVR - Mean Absolute Error for train (5-fold CV):\", round(train_mae, 2))\n",
    "print(\"SVR - Mean Absolute Error for test (5-fold CV):\", round(test_mae, 2))"
   ]
  },
  {
   "cell_type": "code",
   "execution_count": null,
   "metadata": {},
   "outputs": [],
   "source": []
  }
 ],
 "metadata": {
  "kernelspec": {
   "display_name": "Python 3 (ipykernel)",
   "language": "python",
   "name": "python3"
  },
  "language_info": {
   "codemirror_mode": {
    "name": "ipython",
    "version": 3
   },
   "file_extension": ".py",
   "mimetype": "text/x-python",
   "name": "python",
   "nbconvert_exporter": "python",
   "pygments_lexer": "ipython3",
   "version": "3.10.9"
  }
 },
 "nbformat": 4,
 "nbformat_minor": 4
}
